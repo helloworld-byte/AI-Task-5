{
 "cells": [
  {
   "cell_type": "markdown",
   "id": "fa89381f",
   "metadata": {},
   "source": [
    "# DecisionTreeRegression on Titanic Dataset"
   ]
  },
  {
   "cell_type": "code",
   "execution_count": 25,
   "id": "a694e777",
   "metadata": {},
   "outputs": [],
   "source": [
    "import pandas as pd\n",
    "import matplotlib.pyplot as plt\n",
    "import seaborn as sns\n",
    "from seaborn import load_dataset\n",
    "%matplotlib inline\n",
    "plt.style.use('ggplot')"
   ]
  },
  {
   "cell_type": "code",
   "execution_count": 26,
   "id": "e63711d1",
   "metadata": {},
   "outputs": [
    {
     "data": {
      "text/html": [
       "<div>\n",
       "<style scoped>\n",
       "    .dataframe tbody tr th:only-of-type {\n",
       "        vertical-align: middle;\n",
       "    }\n",
       "\n",
       "    .dataframe tbody tr th {\n",
       "        vertical-align: top;\n",
       "    }\n",
       "\n",
       "    .dataframe thead th {\n",
       "        text-align: right;\n",
       "    }\n",
       "</style>\n",
       "<table border=\"1\" class=\"dataframe\">\n",
       "  <thead>\n",
       "    <tr style=\"text-align: right;\">\n",
       "      <th></th>\n",
       "      <th>survived</th>\n",
       "      <th>pclass</th>\n",
       "      <th>sex</th>\n",
       "      <th>age</th>\n",
       "      <th>sibsp</th>\n",
       "      <th>parch</th>\n",
       "      <th>fare</th>\n",
       "      <th>embarked</th>\n",
       "      <th>class</th>\n",
       "      <th>who</th>\n",
       "      <th>adult_male</th>\n",
       "      <th>deck</th>\n",
       "      <th>embark_town</th>\n",
       "      <th>alive</th>\n",
       "      <th>alone</th>\n",
       "    </tr>\n",
       "  </thead>\n",
       "  <tbody>\n",
       "    <tr>\n",
       "      <th>0</th>\n",
       "      <td>0</td>\n",
       "      <td>3</td>\n",
       "      <td>male</td>\n",
       "      <td>22.0</td>\n",
       "      <td>1</td>\n",
       "      <td>0</td>\n",
       "      <td>7.2500</td>\n",
       "      <td>S</td>\n",
       "      <td>Third</td>\n",
       "      <td>man</td>\n",
       "      <td>True</td>\n",
       "      <td>NaN</td>\n",
       "      <td>Southampton</td>\n",
       "      <td>no</td>\n",
       "      <td>False</td>\n",
       "    </tr>\n",
       "    <tr>\n",
       "      <th>1</th>\n",
       "      <td>1</td>\n",
       "      <td>1</td>\n",
       "      <td>female</td>\n",
       "      <td>38.0</td>\n",
       "      <td>1</td>\n",
       "      <td>0</td>\n",
       "      <td>71.2833</td>\n",
       "      <td>C</td>\n",
       "      <td>First</td>\n",
       "      <td>woman</td>\n",
       "      <td>False</td>\n",
       "      <td>C</td>\n",
       "      <td>Cherbourg</td>\n",
       "      <td>yes</td>\n",
       "      <td>False</td>\n",
       "    </tr>\n",
       "    <tr>\n",
       "      <th>2</th>\n",
       "      <td>1</td>\n",
       "      <td>3</td>\n",
       "      <td>female</td>\n",
       "      <td>26.0</td>\n",
       "      <td>0</td>\n",
       "      <td>0</td>\n",
       "      <td>7.9250</td>\n",
       "      <td>S</td>\n",
       "      <td>Third</td>\n",
       "      <td>woman</td>\n",
       "      <td>False</td>\n",
       "      <td>NaN</td>\n",
       "      <td>Southampton</td>\n",
       "      <td>yes</td>\n",
       "      <td>True</td>\n",
       "    </tr>\n",
       "    <tr>\n",
       "      <th>3</th>\n",
       "      <td>1</td>\n",
       "      <td>1</td>\n",
       "      <td>female</td>\n",
       "      <td>35.0</td>\n",
       "      <td>1</td>\n",
       "      <td>0</td>\n",
       "      <td>53.1000</td>\n",
       "      <td>S</td>\n",
       "      <td>First</td>\n",
       "      <td>woman</td>\n",
       "      <td>False</td>\n",
       "      <td>C</td>\n",
       "      <td>Southampton</td>\n",
       "      <td>yes</td>\n",
       "      <td>False</td>\n",
       "    </tr>\n",
       "    <tr>\n",
       "      <th>4</th>\n",
       "      <td>0</td>\n",
       "      <td>3</td>\n",
       "      <td>male</td>\n",
       "      <td>35.0</td>\n",
       "      <td>0</td>\n",
       "      <td>0</td>\n",
       "      <td>8.0500</td>\n",
       "      <td>S</td>\n",
       "      <td>Third</td>\n",
       "      <td>man</td>\n",
       "      <td>True</td>\n",
       "      <td>NaN</td>\n",
       "      <td>Southampton</td>\n",
       "      <td>no</td>\n",
       "      <td>True</td>\n",
       "    </tr>\n",
       "    <tr>\n",
       "      <th>...</th>\n",
       "      <td>...</td>\n",
       "      <td>...</td>\n",
       "      <td>...</td>\n",
       "      <td>...</td>\n",
       "      <td>...</td>\n",
       "      <td>...</td>\n",
       "      <td>...</td>\n",
       "      <td>...</td>\n",
       "      <td>...</td>\n",
       "      <td>...</td>\n",
       "      <td>...</td>\n",
       "      <td>...</td>\n",
       "      <td>...</td>\n",
       "      <td>...</td>\n",
       "      <td>...</td>\n",
       "    </tr>\n",
       "    <tr>\n",
       "      <th>886</th>\n",
       "      <td>0</td>\n",
       "      <td>2</td>\n",
       "      <td>male</td>\n",
       "      <td>27.0</td>\n",
       "      <td>0</td>\n",
       "      <td>0</td>\n",
       "      <td>13.0000</td>\n",
       "      <td>S</td>\n",
       "      <td>Second</td>\n",
       "      <td>man</td>\n",
       "      <td>True</td>\n",
       "      <td>NaN</td>\n",
       "      <td>Southampton</td>\n",
       "      <td>no</td>\n",
       "      <td>True</td>\n",
       "    </tr>\n",
       "    <tr>\n",
       "      <th>887</th>\n",
       "      <td>1</td>\n",
       "      <td>1</td>\n",
       "      <td>female</td>\n",
       "      <td>19.0</td>\n",
       "      <td>0</td>\n",
       "      <td>0</td>\n",
       "      <td>30.0000</td>\n",
       "      <td>S</td>\n",
       "      <td>First</td>\n",
       "      <td>woman</td>\n",
       "      <td>False</td>\n",
       "      <td>B</td>\n",
       "      <td>Southampton</td>\n",
       "      <td>yes</td>\n",
       "      <td>True</td>\n",
       "    </tr>\n",
       "    <tr>\n",
       "      <th>888</th>\n",
       "      <td>0</td>\n",
       "      <td>3</td>\n",
       "      <td>female</td>\n",
       "      <td>NaN</td>\n",
       "      <td>1</td>\n",
       "      <td>2</td>\n",
       "      <td>23.4500</td>\n",
       "      <td>S</td>\n",
       "      <td>Third</td>\n",
       "      <td>woman</td>\n",
       "      <td>False</td>\n",
       "      <td>NaN</td>\n",
       "      <td>Southampton</td>\n",
       "      <td>no</td>\n",
       "      <td>False</td>\n",
       "    </tr>\n",
       "    <tr>\n",
       "      <th>889</th>\n",
       "      <td>1</td>\n",
       "      <td>1</td>\n",
       "      <td>male</td>\n",
       "      <td>26.0</td>\n",
       "      <td>0</td>\n",
       "      <td>0</td>\n",
       "      <td>30.0000</td>\n",
       "      <td>C</td>\n",
       "      <td>First</td>\n",
       "      <td>man</td>\n",
       "      <td>True</td>\n",
       "      <td>C</td>\n",
       "      <td>Cherbourg</td>\n",
       "      <td>yes</td>\n",
       "      <td>True</td>\n",
       "    </tr>\n",
       "    <tr>\n",
       "      <th>890</th>\n",
       "      <td>0</td>\n",
       "      <td>3</td>\n",
       "      <td>male</td>\n",
       "      <td>32.0</td>\n",
       "      <td>0</td>\n",
       "      <td>0</td>\n",
       "      <td>7.7500</td>\n",
       "      <td>Q</td>\n",
       "      <td>Third</td>\n",
       "      <td>man</td>\n",
       "      <td>True</td>\n",
       "      <td>NaN</td>\n",
       "      <td>Queenstown</td>\n",
       "      <td>no</td>\n",
       "      <td>True</td>\n",
       "    </tr>\n",
       "  </tbody>\n",
       "</table>\n",
       "<p>891 rows × 15 columns</p>\n",
       "</div>"
      ],
      "text/plain": [
       "     survived  pclass     sex   age  sibsp  parch     fare embarked   class  \\\n",
       "0           0       3    male  22.0      1      0   7.2500        S   Third   \n",
       "1           1       1  female  38.0      1      0  71.2833        C   First   \n",
       "2           1       3  female  26.0      0      0   7.9250        S   Third   \n",
       "3           1       1  female  35.0      1      0  53.1000        S   First   \n",
       "4           0       3    male  35.0      0      0   8.0500        S   Third   \n",
       "..        ...     ...     ...   ...    ...    ...      ...      ...     ...   \n",
       "886         0       2    male  27.0      0      0  13.0000        S  Second   \n",
       "887         1       1  female  19.0      0      0  30.0000        S   First   \n",
       "888         0       3  female   NaN      1      2  23.4500        S   Third   \n",
       "889         1       1    male  26.0      0      0  30.0000        C   First   \n",
       "890         0       3    male  32.0      0      0   7.7500        Q   Third   \n",
       "\n",
       "       who  adult_male deck  embark_town alive  alone  \n",
       "0      man        True  NaN  Southampton    no  False  \n",
       "1    woman       False    C    Cherbourg   yes  False  \n",
       "2    woman       False  NaN  Southampton   yes   True  \n",
       "3    woman       False    C  Southampton   yes  False  \n",
       "4      man        True  NaN  Southampton    no   True  \n",
       "..     ...         ...  ...          ...   ...    ...  \n",
       "886    man        True  NaN  Southampton    no   True  \n",
       "887  woman       False    B  Southampton   yes   True  \n",
       "888  woman       False  NaN  Southampton    no  False  \n",
       "889    man        True    C    Cherbourg   yes   True  \n",
       "890    man        True  NaN   Queenstown    no   True  \n",
       "\n",
       "[891 rows x 15 columns]"
      ]
     },
     "execution_count": 26,
     "metadata": {},
     "output_type": "execute_result"
    }
   ],
   "source": [
    "data = load_dataset(\"titanic\")\n",
    "data"
   ]
  },
  {
   "cell_type": "code",
   "execution_count": 27,
   "id": "86af094d",
   "metadata": {},
   "outputs": [],
   "source": [
    "columns = ['alive', 'alone', 'embark_town', 'who', 'adult_male', 'deck']\n",
    "data.drop(columns, axis=1, inplace=True)"
   ]
  },
  {
   "cell_type": "code",
   "execution_count": 28,
   "id": "53b25875",
   "metadata": {},
   "outputs": [
    {
     "data": {
      "text/html": [
       "<div>\n",
       "<style scoped>\n",
       "    .dataframe tbody tr th:only-of-type {\n",
       "        vertical-align: middle;\n",
       "    }\n",
       "\n",
       "    .dataframe tbody tr th {\n",
       "        vertical-align: top;\n",
       "    }\n",
       "\n",
       "    .dataframe thead th {\n",
       "        text-align: right;\n",
       "    }\n",
       "</style>\n",
       "<table border=\"1\" class=\"dataframe\">\n",
       "  <thead>\n",
       "    <tr style=\"text-align: right;\">\n",
       "      <th></th>\n",
       "      <th>count</th>\n",
       "      <th>unique</th>\n",
       "      <th>top</th>\n",
       "      <th>freq</th>\n",
       "      <th>mean</th>\n",
       "      <th>std</th>\n",
       "      <th>min</th>\n",
       "      <th>25%</th>\n",
       "      <th>50%</th>\n",
       "      <th>75%</th>\n",
       "      <th>max</th>\n",
       "    </tr>\n",
       "  </thead>\n",
       "  <tbody>\n",
       "    <tr>\n",
       "      <th>survived</th>\n",
       "      <td>891.0</td>\n",
       "      <td>NaN</td>\n",
       "      <td>NaN</td>\n",
       "      <td>NaN</td>\n",
       "      <td>0.383838</td>\n",
       "      <td>0.486592</td>\n",
       "      <td>0.0</td>\n",
       "      <td>0.0</td>\n",
       "      <td>0.0</td>\n",
       "      <td>1.0</td>\n",
       "      <td>1.0</td>\n",
       "    </tr>\n",
       "    <tr>\n",
       "      <th>pclass</th>\n",
       "      <td>891.0</td>\n",
       "      <td>NaN</td>\n",
       "      <td>NaN</td>\n",
       "      <td>NaN</td>\n",
       "      <td>2.308642</td>\n",
       "      <td>0.836071</td>\n",
       "      <td>1.0</td>\n",
       "      <td>2.0</td>\n",
       "      <td>3.0</td>\n",
       "      <td>3.0</td>\n",
       "      <td>3.0</td>\n",
       "    </tr>\n",
       "    <tr>\n",
       "      <th>sex</th>\n",
       "      <td>891</td>\n",
       "      <td>2</td>\n",
       "      <td>male</td>\n",
       "      <td>577</td>\n",
       "      <td>NaN</td>\n",
       "      <td>NaN</td>\n",
       "      <td>NaN</td>\n",
       "      <td>NaN</td>\n",
       "      <td>NaN</td>\n",
       "      <td>NaN</td>\n",
       "      <td>NaN</td>\n",
       "    </tr>\n",
       "    <tr>\n",
       "      <th>age</th>\n",
       "      <td>714.0</td>\n",
       "      <td>NaN</td>\n",
       "      <td>NaN</td>\n",
       "      <td>NaN</td>\n",
       "      <td>29.699118</td>\n",
       "      <td>14.526497</td>\n",
       "      <td>0.42</td>\n",
       "      <td>20.125</td>\n",
       "      <td>28.0</td>\n",
       "      <td>38.0</td>\n",
       "      <td>80.0</td>\n",
       "    </tr>\n",
       "    <tr>\n",
       "      <th>sibsp</th>\n",
       "      <td>891.0</td>\n",
       "      <td>NaN</td>\n",
       "      <td>NaN</td>\n",
       "      <td>NaN</td>\n",
       "      <td>0.523008</td>\n",
       "      <td>1.102743</td>\n",
       "      <td>0.0</td>\n",
       "      <td>0.0</td>\n",
       "      <td>0.0</td>\n",
       "      <td>1.0</td>\n",
       "      <td>8.0</td>\n",
       "    </tr>\n",
       "    <tr>\n",
       "      <th>parch</th>\n",
       "      <td>891.0</td>\n",
       "      <td>NaN</td>\n",
       "      <td>NaN</td>\n",
       "      <td>NaN</td>\n",
       "      <td>0.381594</td>\n",
       "      <td>0.806057</td>\n",
       "      <td>0.0</td>\n",
       "      <td>0.0</td>\n",
       "      <td>0.0</td>\n",
       "      <td>0.0</td>\n",
       "      <td>6.0</td>\n",
       "    </tr>\n",
       "    <tr>\n",
       "      <th>fare</th>\n",
       "      <td>891.0</td>\n",
       "      <td>NaN</td>\n",
       "      <td>NaN</td>\n",
       "      <td>NaN</td>\n",
       "      <td>32.204208</td>\n",
       "      <td>49.693429</td>\n",
       "      <td>0.0</td>\n",
       "      <td>7.9104</td>\n",
       "      <td>14.4542</td>\n",
       "      <td>31.0</td>\n",
       "      <td>512.3292</td>\n",
       "    </tr>\n",
       "    <tr>\n",
       "      <th>embarked</th>\n",
       "      <td>889</td>\n",
       "      <td>3</td>\n",
       "      <td>S</td>\n",
       "      <td>644</td>\n",
       "      <td>NaN</td>\n",
       "      <td>NaN</td>\n",
       "      <td>NaN</td>\n",
       "      <td>NaN</td>\n",
       "      <td>NaN</td>\n",
       "      <td>NaN</td>\n",
       "      <td>NaN</td>\n",
       "    </tr>\n",
       "    <tr>\n",
       "      <th>class</th>\n",
       "      <td>891</td>\n",
       "      <td>3</td>\n",
       "      <td>Third</td>\n",
       "      <td>491</td>\n",
       "      <td>NaN</td>\n",
       "      <td>NaN</td>\n",
       "      <td>NaN</td>\n",
       "      <td>NaN</td>\n",
       "      <td>NaN</td>\n",
       "      <td>NaN</td>\n",
       "      <td>NaN</td>\n",
       "    </tr>\n",
       "  </tbody>\n",
       "</table>\n",
       "</div>"
      ],
      "text/plain": [
       "          count unique    top freq       mean        std   min     25%  \\\n",
       "survived  891.0    NaN    NaN  NaN   0.383838   0.486592   0.0     0.0   \n",
       "pclass    891.0    NaN    NaN  NaN   2.308642   0.836071   1.0     2.0   \n",
       "sex         891      2   male  577        NaN        NaN   NaN     NaN   \n",
       "age       714.0    NaN    NaN  NaN  29.699118  14.526497  0.42  20.125   \n",
       "sibsp     891.0    NaN    NaN  NaN   0.523008   1.102743   0.0     0.0   \n",
       "parch     891.0    NaN    NaN  NaN   0.381594   0.806057   0.0     0.0   \n",
       "fare      891.0    NaN    NaN  NaN  32.204208  49.693429   0.0  7.9104   \n",
       "embarked    889      3      S  644        NaN        NaN   NaN     NaN   \n",
       "class       891      3  Third  491        NaN        NaN   NaN     NaN   \n",
       "\n",
       "              50%   75%       max  \n",
       "survived      0.0   1.0       1.0  \n",
       "pclass        3.0   3.0       3.0  \n",
       "sex           NaN   NaN       NaN  \n",
       "age          28.0  38.0      80.0  \n",
       "sibsp         0.0   1.0       8.0  \n",
       "parch         0.0   0.0       6.0  \n",
       "fare      14.4542  31.0  512.3292  \n",
       "embarked      NaN   NaN       NaN  \n",
       "class         NaN   NaN       NaN  "
      ]
     },
     "execution_count": 28,
     "metadata": {},
     "output_type": "execute_result"
    }
   ],
   "source": [
    "data.describe(include='all').T"
   ]
  },
  {
   "cell_type": "code",
   "execution_count": 29,
   "id": "cc68ec9d",
   "metadata": {},
   "outputs": [],
   "source": [
    "bins = [0, 5, 17, 25, 50, 80]\n",
    "labels = ['Infant', 'Kid', 'Young', 'Adult', 'Old']\n",
    "data['age'] = pd.cut(data['age'], bins = bins, labels=labels)"
   ]
  },
  {
   "cell_type": "code",
   "execution_count": 30,
   "id": "69d70d74",
   "metadata": {},
   "outputs": [
    {
     "data": {
      "text/html": [
       "<div>\n",
       "<style scoped>\n",
       "    .dataframe tbody tr th:only-of-type {\n",
       "        vertical-align: middle;\n",
       "    }\n",
       "\n",
       "    .dataframe tbody tr th {\n",
       "        vertical-align: top;\n",
       "    }\n",
       "\n",
       "    .dataframe thead th {\n",
       "        text-align: right;\n",
       "    }\n",
       "</style>\n",
       "<table border=\"1\" class=\"dataframe\">\n",
       "  <thead>\n",
       "    <tr style=\"text-align: right;\">\n",
       "      <th></th>\n",
       "      <th>age</th>\n",
       "    </tr>\n",
       "  </thead>\n",
       "  <tbody>\n",
       "    <tr>\n",
       "      <th>Adult</th>\n",
       "      <td>349</td>\n",
       "    </tr>\n",
       "    <tr>\n",
       "      <th>Young</th>\n",
       "      <td>188</td>\n",
       "    </tr>\n",
       "    <tr>\n",
       "      <th>Kid</th>\n",
       "      <td>69</td>\n",
       "    </tr>\n",
       "    <tr>\n",
       "      <th>Old</th>\n",
       "      <td>64</td>\n",
       "    </tr>\n",
       "    <tr>\n",
       "      <th>Infant</th>\n",
       "      <td>44</td>\n",
       "    </tr>\n",
       "  </tbody>\n",
       "</table>\n",
       "</div>"
      ],
      "text/plain": [
       "        age\n",
       "Adult   349\n",
       "Young   188\n",
       "Kid      69\n",
       "Old      64\n",
       "Infant   44"
      ]
     },
     "execution_count": 30,
     "metadata": {},
     "output_type": "execute_result"
    }
   ],
   "source": [
    "pd.DataFrame(data['age'].value_counts())"
   ]
  },
  {
   "cell_type": "code",
   "execution_count": 31,
   "id": "e6f7ab82",
   "metadata": {},
   "outputs": [
    {
     "data": {
      "text/plain": [
       "'Adult'"
      ]
     },
     "execution_count": 31,
     "metadata": {},
     "output_type": "execute_result"
    }
   ],
   "source": [
    "data_2 = data['age'].mode()[0]\n",
    "data_2"
   ]
  },
  {
   "cell_type": "code",
   "execution_count": 32,
   "id": "3acd6f34",
   "metadata": {},
   "outputs": [],
   "source": [
    "data = data.fillna({'age' : data['age'].mode()[0]})"
   ]
  },
  {
   "cell_type": "code",
   "execution_count": 33,
   "id": "34a4c7c1",
   "metadata": {},
   "outputs": [
    {
     "data": {
      "text/plain": [
       "array(['S', 'C', 'Q', nan], dtype=object)"
      ]
     },
     "execution_count": 33,
     "metadata": {},
     "output_type": "execute_result"
    }
   ],
   "source": [
    "data['embarked'].unique()"
   ]
  },
  {
   "cell_type": "code",
   "execution_count": 34,
   "id": "07fd8bd6",
   "metadata": {},
   "outputs": [],
   "source": [
    "data = data.fillna({'embarked' : 'S'})"
   ]
  },
  {
   "cell_type": "code",
   "execution_count": 35,
   "id": "00054ed5",
   "metadata": {},
   "outputs": [],
   "source": [
    "bins = [-1, 8, 15, 31, 513]\n",
    "labels = ['low', 'medium-low', 'medium', 'high']\n",
    "data['fare'] = pd.cut(data[\"fare\"], bins = bins, labels = labels)"
   ]
  },
  {
   "cell_type": "code",
   "execution_count": 36,
   "id": "bcd6ea16",
   "metadata": {},
   "outputs": [
    {
     "data": {
      "text/plain": [
       "<seaborn.axisgrid.FacetGrid at 0x29916d21400>"
      ]
     },
     "execution_count": 36,
     "metadata": {},
     "output_type": "execute_result"
    },
    {
     "data": {
      "image/png": "[encoded data removed]",
      "text/plain": [
       "<Figure size 360x360 with 1 Axes>"
      ]
     },
     "metadata": {},
     "output_type": "display_data"
    }
   ],
   "source": [
    "data.drop('class', axis = 1, inplace = True)\n",
    "sns.displot(data['survived'])"
   ]
  },
  {
   "cell_type": "code",
   "execution_count": 37,
   "id": "6b02ffd8",
   "metadata": {},
   "outputs": [
    {
     "data": {
      "image/png": "[encoded data removed]",
      "text/plain": [
       "<Figure size 1440x720 with 6 Axes>"
      ]
     },
     "metadata": {},
     "output_type": "display_data"
    }
   ],
   "source": [
    "plt.figure(figsize=(20, 10))\n",
    "plt.subplot(321)\n",
    "sns.barplot(x = 'sibsp', y = 'survived', data = data)\n",
    "plt.subplot(322)\n",
    "sns.barplot(x = 'pclass', y = 'survived', data = data)\n",
    "plt.subplot(323)\n",
    "sns.barplot(x = 'age', y = 'survived', data = data)\n",
    "plt.subplot(324)\n",
    "sns.barplot(x = 'sex', y = 'survived', data = data)\n",
    "plt.subplot(325)\n",
    "sns.barplot(x = 'embarked', y = 'survived', data = data);\n",
    "plt.subplot(326)\n",
    "sns.barplot(x = 'fare', y = 'survived' , data = data);"
   ]
  },
  {
   "cell_type": "markdown",
   "id": "075c9eb5",
   "metadata": {},
   "source": [
    "## We'll use get_dummies to convert non-numeric values to numeric values."
   ]
  },
  {
   "cell_type": "code",
   "execution_count": 38,
   "id": "37f5f297",
   "metadata": {},
   "outputs": [],
   "source": [
    "dummies = ['fare', 'age', 'embarked', 'sex']\n",
    "dummies_data = pd.get_dummies(data[dummies])"
   ]
  },
  {
   "cell_type": "code",
   "execution_count": 39,
   "id": "fbbe6435",
   "metadata": {},
   "outputs": [
    {
     "data": {
      "text/plain": [
       "(891, 14)"
      ]
     },
     "execution_count": 39,
     "metadata": {},
     "output_type": "execute_result"
    }
   ],
   "source": [
    "dummies_data.shape"
   ]
  },
  {
   "cell_type": "markdown",
   "id": "ca2bcf1f",
   "metadata": {},
   "source": [
    "### We will concat two data frames, and drop the old columns."
   ]
  },
  {
   "cell_type": "code",
   "execution_count": 40,
   "id": "6173c661",
   "metadata": {},
   "outputs": [],
   "source": [
    "data = pd.concat([data, dummies_data], axis = 1)\n",
    "data.drop(dummies, axis = 1, inplace = True)"
   ]
  },
  {
   "cell_type": "markdown",
   "id": "8c49589f",
   "metadata": {},
   "source": [
    "# Spliting into Train and Test dataset"
   ]
  },
  {
   "cell_type": "code",
   "execution_count": 41,
   "id": "00c6d9b6",
   "metadata": {},
   "outputs": [],
   "source": [
    "from sklearn.model_selection import train_test_split\n",
    "from sklearn.tree import DecisionTreeRegressor"
   ]
  },
  {
   "cell_type": "code",
   "execution_count": 42,
   "id": "7a21dca9",
   "metadata": {},
   "outputs": [],
   "source": [
    "X = data.drop('survived', axis = 1)\n",
    "y = data['survived']\n",
    "X_train, X_test, y_train, y_test = train_test_split(X, y, test_size = 0.33, random_state = 0)"
   ]
  },
  {
   "cell_type": "markdown",
   "id": "3dd526f7",
   "metadata": {},
   "source": [
    "## Training the model"
   ]
  },
  {
   "cell_type": "code",
   "execution_count": 43,
   "id": "a017490a",
   "metadata": {
    "scrolled": false
   },
   "outputs": [
    {
     "data": {
      "text/plain": [
       "array([0.        , 0.17021277, 0.        , 1.        , 1.        ,\n",
       "       0.6       , 1.        , 1.        , 1.        , 1.        ,\n",
       "       0.        , 0.91666667, 0.11764706, 1.        , 1.        ,\n",
       "       0.        , 0.        , 0.        , 0.17857143, 1.        ,\n",
       "       0.08333333, 1.        , 0.11764706, 0.6       , 0.5       ,\n",
       "       1.        , 0.17021277, 0.57142857, 1.        , 0.        ,\n",
       "       0.        , 0.91666667, 0.17857143, 0.1       , 0.        ,\n",
       "       0.5       , 0.17021277, 0.14285714, 0.08333333, 0.        ,\n",
       "       0.        , 0.5       , 0.17857143, 0.        , 1.        ,\n",
       "       0.17021277, 0.17021277, 1.        , 0.14285714, 0.        ,\n",
       "       0.6       , 1.        , 1.        , 0.04347826, 0.5       ,\n",
       "       0.        , 0.4       , 0.        , 0.        , 0.        ,\n",
       "       0.5       , 0.        , 1.        , 0.25      , 0.        ,\n",
       "       0.11764706, 0.66666667, 0.6       , 1.        , 0.66666667,\n",
       "       1.        , 0.4       , 0.75      , 0.17857143, 0.        ,\n",
       "       0.66666667, 1.        , 0.5       , 0.17021277, 1.        ,\n",
       "       0.        , 0.        , 1.        , 0.        , 0.        ,\n",
       "       1.        , 1.        , 0.5       , 0.91666667, 1.        ,\n",
       "       0.        , 0.04347826, 1.        , 1.        , 0.        ,\n",
       "       0.11111111, 1.        , 0.        , 0.4       , 0.25      ,\n",
       "       0.        , 0.16666667, 0.04347826, 0.25      , 0.        ,\n",
       "       0.5       , 0.91666667, 0.5       , 0.        , 1.        ,\n",
       "       0.17021277, 1.        , 0.6       , 0.33333333, 0.        ,\n",
       "       0.91666667, 0.5       , 1.        , 0.17021277, 1.        ,\n",
       "       0.6       , 0.11764706, 0.        , 0.        , 0.17857143,\n",
       "       0.        , 0.11111111, 0.25      , 0.        , 0.        ,\n",
       "       1.        , 0.        , 0.04347826, 0.5       , 0.4       ,\n",
       "       0.        , 0.        , 0.        , 0.16666667, 0.08333333,\n",
       "       0.14285714, 1.        , 0.17857143, 1.        , 1.        ,\n",
       "       0.5       , 0.14285714, 0.66666667, 1.        , 0.17857143,\n",
       "       0.4       , 0.33333333, 0.33333333, 0.17021277, 1.        ,\n",
       "       0.14285714, 0.        , 0.        , 0.83333333, 1.        ,\n",
       "       0.17021277, 0.5       , 1.        , 0.        , 1.        ,\n",
       "       0.04347826, 0.        , 0.04347826, 0.04347826, 0.16666667,\n",
       "       0.        , 1.        , 0.17021277, 0.17857143, 1.        ,\n",
       "       0.17857143, 1.        , 0.04347826, 0.        , 1.        ,\n",
       "       0.14285714, 0.        , 0.5       , 0.04347826, 0.6       ,\n",
       "       0.        , 0.83333333, 0.        , 0.17021277, 1.        ,\n",
       "       0.5       , 0.4       , 1.        , 0.83333333, 0.11764706,\n",
       "       0.        , 0.17857143, 0.5       , 0.6       , 0.17021277,\n",
       "       0.        , 0.5       , 0.        , 0.5       , 0.        ,\n",
       "       0.        , 0.75      , 0.17857143, 1.        , 0.17857143,\n",
       "       0.04347826, 0.        , 0.        , 1.        , 0.14285714,\n",
       "       0.04347826, 0.        , 1.        , 0.        , 1.        ,\n",
       "       0.04347826, 1.        , 0.5       , 0.17021277, 0.        ,\n",
       "       0.        , 0.04347826, 0.91666667, 0.04347826, 0.        ,\n",
       "       0.17857143, 0.        , 0.4       , 0.5       , 0.4       ,\n",
       "       0.        , 1.        , 1.        , 1.        , 0.17021277,\n",
       "       0.11111111, 1.        , 0.17021277, 0.        , 0.        ,\n",
       "       1.        , 1.        , 0.17021277, 0.17857143, 0.33333333,\n",
       "       0.04347826, 0.        , 0.75      , 0.        , 0.        ,\n",
       "       0.5       , 0.83333333, 0.17857143, 0.        , 0.        ,\n",
       "       0.17021277, 0.        , 0.11111111, 0.        , 0.        ,\n",
       "       0.        , 0.57142857, 0.5       , 0.4       , 1.        ,\n",
       "       0.        , 0.        , 0.5       , 0.        , 1.        ,\n",
       "       0.        , 0.17857143, 0.04347826, 0.83333333, 0.4       ,\n",
       "       0.04347826, 1.        , 0.1       , 0.66666667, 0.        ,\n",
       "       0.04347826, 1.        , 0.        , 0.        , 0.1       ,\n",
       "       0.14285714, 0.16666667, 1.        , 1.        , 0.5       ])"
      ]
     },
     "execution_count": 43,
     "metadata": {},
     "output_type": "execute_result"
    }
   ],
   "source": [
    "reg = DecisionTreeRegressor()\n",
    "reg.fit(X_train, y_train)\n",
    "y_pred = reg.predict(X_test)\n",
    "y_pred"
   ]
  },
  {
   "cell_type": "markdown",
   "id": "37db5df8",
   "metadata": {},
   "source": [
    "# Accuracy of the model"
   ]
  },
  {
   "cell_type": "code",
   "execution_count": 49,
   "id": "d6e648a0",
   "metadata": {},
   "outputs": [],
   "source": [
    "import numpy as np"
   ]
  },
  {
   "cell_type": "code",
   "execution_count": 50,
   "id": "2709f967",
   "metadata": {},
   "outputs": [
    {
     "data": {
      "text/plain": [
       "0.12359600065868188"
      ]
     },
     "execution_count": 50,
     "metadata": {},
     "output_type": "execute_result"
    }
   ],
   "source": [
    "# Using RMSLE => Root Mean Square Logarithmic Error\n",
    "error = np.square(np.log10(y_pred +1) - np.log10(y_test +1)).mean() ** 0.5\n",
    "error"
   ]
  },
  {
   "cell_type": "code",
   "execution_count": 51,
   "id": "ec9f3dbb",
   "metadata": {},
   "outputs": [
    {
     "name": "stdout",
     "output_type": "stream",
     "text": [
      "Accuracy of the model is 87.6403999341318 %\n"
     ]
    }
   ],
   "source": [
    "# Accuracy of the model.\n",
    "# Subtract error from 1 and multiplying by 100.\n",
    "\n",
    "print(\"Accuracy of the model is\", (1-error)*100, \"%\")"
   ]
  }
 ],
 "metadata": {
  "kernelspec": {
   "display_name": "Python 3 (ipykernel)",
   "language": "python",
   "name": "python3"
  },
  "language_info": {
   "codemirror_mode": {
    "name": "ipython",
    "version": 3
   },
   "file_extension": ".py",
   "mimetype": "text/x-python",
   "name": "python",
   "nbconvert_exporter": "python",
   "pygments_lexer": "ipython3",
   "version": "3.9.7"
  }
 },
 "nbformat": 4,
 "nbformat_minor": 5
}
