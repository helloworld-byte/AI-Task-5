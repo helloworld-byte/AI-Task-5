{
 "cells": [
  {
   "cell_type": "markdown",
   "id": "15e100d3",
   "metadata": {},
   "source": [
    "# Ridge Regression on Titanic Dataset"
   ]
  },
  {
   "cell_type": "code",
   "execution_count": 124,
   "id": "a694e777",
   "metadata": {},
   "outputs": [],
   "source": [
    "import pandas as pd\n",
    "import matplotlib.pyplot as plt\n",
    "import seaborn as sns\n",
    "from seaborn import load_dataset\n",
    "%matplotlib inline\n",
    "plt.style.use('ggplot')"
   ]
  },
  {
   "cell_type": "code",
   "execution_count": 125,
   "id": "e63711d1",
   "metadata": {},
   "outputs": [
    {
     "data": {
      "text/html": [
       "<div>\n",
       "<style scoped>\n",
       "    .dataframe tbody tr th:only-of-type {\n",
       "        vertical-align: middle;\n",
       "    }\n",
       "\n",
       "    .dataframe tbody tr th {\n",
       "        vertical-align: top;\n",
       "    }\n",
       "\n",
       "    .dataframe thead th {\n",
       "        text-align: right;\n",
       "    }\n",
       "</style>\n",
       "<table border=\"1\" class=\"dataframe\">\n",
       "  <thead>\n",
       "    <tr style=\"text-align: right;\">\n",
       "      <th></th>\n",
       "      <th>survived</th>\n",
       "      <th>pclass</th>\n",
       "      <th>sex</th>\n",
       "      <th>age</th>\n",
       "      <th>sibsp</th>\n",
       "      <th>parch</th>\n",
       "      <th>fare</th>\n",
       "      <th>embarked</th>\n",
       "      <th>class</th>\n",
       "      <th>who</th>\n",
       "      <th>adult_male</th>\n",
       "      <th>deck</th>\n",
       "      <th>embark_town</th>\n",
       "      <th>alive</th>\n",
       "      <th>alone</th>\n",
       "    </tr>\n",
       "  </thead>\n",
       "  <tbody>\n",
       "    <tr>\n",
       "      <th>0</th>\n",
       "      <td>0</td>\n",
       "      <td>3</td>\n",
       "      <td>male</td>\n",
       "      <td>22.0</td>\n",
       "      <td>1</td>\n",
       "      <td>0</td>\n",
       "      <td>7.2500</td>\n",
       "      <td>S</td>\n",
       "      <td>Third</td>\n",
       "      <td>man</td>\n",
       "      <td>True</td>\n",
       "      <td>NaN</td>\n",
       "      <td>Southampton</td>\n",
       "      <td>no</td>\n",
       "      <td>False</td>\n",
       "    </tr>\n",
       "    <tr>\n",
       "      <th>1</th>\n",
       "      <td>1</td>\n",
       "      <td>1</td>\n",
       "      <td>female</td>\n",
       "      <td>38.0</td>\n",
       "      <td>1</td>\n",
       "      <td>0</td>\n",
       "      <td>71.2833</td>\n",
       "      <td>C</td>\n",
       "      <td>First</td>\n",
       "      <td>woman</td>\n",
       "      <td>False</td>\n",
       "      <td>C</td>\n",
       "      <td>Cherbourg</td>\n",
       "      <td>yes</td>\n",
       "      <td>False</td>\n",
       "    </tr>\n",
       "    <tr>\n",
       "      <th>2</th>\n",
       "      <td>1</td>\n",
       "      <td>3</td>\n",
       "      <td>female</td>\n",
       "      <td>26.0</td>\n",
       "      <td>0</td>\n",
       "      <td>0</td>\n",
       "      <td>7.9250</td>\n",
       "      <td>S</td>\n",
       "      <td>Third</td>\n",
       "      <td>woman</td>\n",
       "      <td>False</td>\n",
       "      <td>NaN</td>\n",
       "      <td>Southampton</td>\n",
       "      <td>yes</td>\n",
       "      <td>True</td>\n",
       "    </tr>\n",
       "    <tr>\n",
       "      <th>3</th>\n",
       "      <td>1</td>\n",
       "      <td>1</td>\n",
       "      <td>female</td>\n",
       "      <td>35.0</td>\n",
       "      <td>1</td>\n",
       "      <td>0</td>\n",
       "      <td>53.1000</td>\n",
       "      <td>S</td>\n",
       "      <td>First</td>\n",
       "      <td>woman</td>\n",
       "      <td>False</td>\n",
       "      <td>C</td>\n",
       "      <td>Southampton</td>\n",
       "      <td>yes</td>\n",
       "      <td>False</td>\n",
       "    </tr>\n",
       "    <tr>\n",
       "      <th>4</th>\n",
       "      <td>0</td>\n",
       "      <td>3</td>\n",
       "      <td>male</td>\n",
       "      <td>35.0</td>\n",
       "      <td>0</td>\n",
       "      <td>0</td>\n",
       "      <td>8.0500</td>\n",
       "      <td>S</td>\n",
       "      <td>Third</td>\n",
       "      <td>man</td>\n",
       "      <td>True</td>\n",
       "      <td>NaN</td>\n",
       "      <td>Southampton</td>\n",
       "      <td>no</td>\n",
       "      <td>True</td>\n",
       "    </tr>\n",
       "    <tr>\n",
       "      <th>...</th>\n",
       "      <td>...</td>\n",
       "      <td>...</td>\n",
       "      <td>...</td>\n",
       "      <td>...</td>\n",
       "      <td>...</td>\n",
       "      <td>...</td>\n",
       "      <td>...</td>\n",
       "      <td>...</td>\n",
       "      <td>...</td>\n",
       "      <td>...</td>\n",
       "      <td>...</td>\n",
       "      <td>...</td>\n",
       "      <td>...</td>\n",
       "      <td>...</td>\n",
       "      <td>...</td>\n",
       "    </tr>\n",
       "    <tr>\n",
       "      <th>886</th>\n",
       "      <td>0</td>\n",
       "      <td>2</td>\n",
       "      <td>male</td>\n",
       "      <td>27.0</td>\n",
       "      <td>0</td>\n",
       "      <td>0</td>\n",
       "      <td>13.0000</td>\n",
       "      <td>S</td>\n",
       "      <td>Second</td>\n",
       "      <td>man</td>\n",
       "      <td>True</td>\n",
       "      <td>NaN</td>\n",
       "      <td>Southampton</td>\n",
       "      <td>no</td>\n",
       "      <td>True</td>\n",
       "    </tr>\n",
       "    <tr>\n",
       "      <th>887</th>\n",
       "      <td>1</td>\n",
       "      <td>1</td>\n",
       "      <td>female</td>\n",
       "      <td>19.0</td>\n",
       "      <td>0</td>\n",
       "      <td>0</td>\n",
       "      <td>30.0000</td>\n",
       "      <td>S</td>\n",
       "      <td>First</td>\n",
       "      <td>woman</td>\n",
       "      <td>False</td>\n",
       "      <td>B</td>\n",
       "      <td>Southampton</td>\n",
       "      <td>yes</td>\n",
       "      <td>True</td>\n",
       "    </tr>\n",
       "    <tr>\n",
       "      <th>888</th>\n",
       "      <td>0</td>\n",
       "      <td>3</td>\n",
       "      <td>female</td>\n",
       "      <td>NaN</td>\n",
       "      <td>1</td>\n",
       "      <td>2</td>\n",
       "      <td>23.4500</td>\n",
       "      <td>S</td>\n",
       "      <td>Third</td>\n",
       "      <td>woman</td>\n",
       "      <td>False</td>\n",
       "      <td>NaN</td>\n",
       "      <td>Southampton</td>\n",
       "      <td>no</td>\n",
       "      <td>False</td>\n",
       "    </tr>\n",
       "    <tr>\n",
       "      <th>889</th>\n",
       "      <td>1</td>\n",
       "      <td>1</td>\n",
       "      <td>male</td>\n",
       "      <td>26.0</td>\n",
       "      <td>0</td>\n",
       "      <td>0</td>\n",
       "      <td>30.0000</td>\n",
       "      <td>C</td>\n",
       "      <td>First</td>\n",
       "      <td>man</td>\n",
       "      <td>True</td>\n",
       "      <td>C</td>\n",
       "      <td>Cherbourg</td>\n",
       "      <td>yes</td>\n",
       "      <td>True</td>\n",
       "    </tr>\n",
       "    <tr>\n",
       "      <th>890</th>\n",
       "      <td>0</td>\n",
       "      <td>3</td>\n",
       "      <td>male</td>\n",
       "      <td>32.0</td>\n",
       "      <td>0</td>\n",
       "      <td>0</td>\n",
       "      <td>7.7500</td>\n",
       "      <td>Q</td>\n",
       "      <td>Third</td>\n",
       "      <td>man</td>\n",
       "      <td>True</td>\n",
       "      <td>NaN</td>\n",
       "      <td>Queenstown</td>\n",
       "      <td>no</td>\n",
       "      <td>True</td>\n",
       "    </tr>\n",
       "  </tbody>\n",
       "</table>\n",
       "<p>891 rows × 15 columns</p>\n",
       "</div>"
      ],
      "text/plain": [
       "     survived  pclass     sex   age  sibsp  parch     fare embarked   class  \\\n",
       "0           0       3    male  22.0      1      0   7.2500        S   Third   \n",
       "1           1       1  female  38.0      1      0  71.2833        C   First   \n",
       "2           1       3  female  26.0      0      0   7.9250        S   Third   \n",
       "3           1       1  female  35.0      1      0  53.1000        S   First   \n",
       "4           0       3    male  35.0      0      0   8.0500        S   Third   \n",
       "..        ...     ...     ...   ...    ...    ...      ...      ...     ...   \n",
       "886         0       2    male  27.0      0      0  13.0000        S  Second   \n",
       "887         1       1  female  19.0      0      0  30.0000        S   First   \n",
       "888         0       3  female   NaN      1      2  23.4500        S   Third   \n",
       "889         1       1    male  26.0      0      0  30.0000        C   First   \n",
       "890         0       3    male  32.0      0      0   7.7500        Q   Third   \n",
       "\n",
       "       who  adult_male deck  embark_town alive  alone  \n",
       "0      man        True  NaN  Southampton    no  False  \n",
       "1    woman       False    C    Cherbourg   yes  False  \n",
       "2    woman       False  NaN  Southampton   yes   True  \n",
       "3    woman       False    C  Southampton   yes  False  \n",
       "4      man        True  NaN  Southampton    no   True  \n",
       "..     ...         ...  ...          ...   ...    ...  \n",
       "886    man        True  NaN  Southampton    no   True  \n",
       "887  woman       False    B  Southampton   yes   True  \n",
       "888  woman       False  NaN  Southampton    no  False  \n",
       "889    man        True    C    Cherbourg   yes   True  \n",
       "890    man        True  NaN   Queenstown    no   True  \n",
       "\n",
       "[891 rows x 15 columns]"
      ]
     },
     "execution_count": 125,
     "metadata": {},
     "output_type": "execute_result"
    }
   ],
   "source": [
    "data = load_dataset(\"titanic\")\n",
    "data"
   ]
  },
  {
   "cell_type": "code",
   "execution_count": 126,
   "id": "86af094d",
   "metadata": {},
   "outputs": [],
   "source": [
    "columns = ['alive', 'alone', 'embark_town', 'who', 'adult_male', 'deck']\n",
    "data.drop(columns, axis=1, inplace=True)"
   ]
  },
  {
   "cell_type": "code",
   "execution_count": 127,
   "id": "53b25875",
   "metadata": {},
   "outputs": [
    {
     "data": {
      "text/html": [
       "<div>\n",
       "<style scoped>\n",
       "    .dataframe tbody tr th:only-of-type {\n",
       "        vertical-align: middle;\n",
       "    }\n",
       "\n",
       "    .dataframe tbody tr th {\n",
       "        vertical-align: top;\n",
       "    }\n",
       "\n",
       "    .dataframe thead th {\n",
       "        text-align: right;\n",
       "    }\n",
       "</style>\n",
       "<table border=\"1\" class=\"dataframe\">\n",
       "  <thead>\n",
       "    <tr style=\"text-align: right;\">\n",
       "      <th></th>\n",
       "      <th>count</th>\n",
       "      <th>unique</th>\n",
       "      <th>top</th>\n",
       "      <th>freq</th>\n",
       "      <th>mean</th>\n",
       "      <th>std</th>\n",
       "      <th>min</th>\n",
       "      <th>25%</th>\n",
       "      <th>50%</th>\n",
       "      <th>75%</th>\n",
       "      <th>max</th>\n",
       "    </tr>\n",
       "  </thead>\n",
       "  <tbody>\n",
       "    <tr>\n",
       "      <th>survived</th>\n",
       "      <td>891.0</td>\n",
       "      <td>NaN</td>\n",
       "      <td>NaN</td>\n",
       "      <td>NaN</td>\n",
       "      <td>0.383838</td>\n",
       "      <td>0.486592</td>\n",
       "      <td>0.0</td>\n",
       "      <td>0.0</td>\n",
       "      <td>0.0</td>\n",
       "      <td>1.0</td>\n",
       "      <td>1.0</td>\n",
       "    </tr>\n",
       "    <tr>\n",
       "      <th>pclass</th>\n",
       "      <td>891.0</td>\n",
       "      <td>NaN</td>\n",
       "      <td>NaN</td>\n",
       "      <td>NaN</td>\n",
       "      <td>2.308642</td>\n",
       "      <td>0.836071</td>\n",
       "      <td>1.0</td>\n",
       "      <td>2.0</td>\n",
       "      <td>3.0</td>\n",
       "      <td>3.0</td>\n",
       "      <td>3.0</td>\n",
       "    </tr>\n",
       "    <tr>\n",
       "      <th>sex</th>\n",
       "      <td>891</td>\n",
       "      <td>2</td>\n",
       "      <td>male</td>\n",
       "      <td>577</td>\n",
       "      <td>NaN</td>\n",
       "      <td>NaN</td>\n",
       "      <td>NaN</td>\n",
       "      <td>NaN</td>\n",
       "      <td>NaN</td>\n",
       "      <td>NaN</td>\n",
       "      <td>NaN</td>\n",
       "    </tr>\n",
       "    <tr>\n",
       "      <th>age</th>\n",
       "      <td>714.0</td>\n",
       "      <td>NaN</td>\n",
       "      <td>NaN</td>\n",
       "      <td>NaN</td>\n",
       "      <td>29.699118</td>\n",
       "      <td>14.526497</td>\n",
       "      <td>0.42</td>\n",
       "      <td>20.125</td>\n",
       "      <td>28.0</td>\n",
       "      <td>38.0</td>\n",
       "      <td>80.0</td>\n",
       "    </tr>\n",
       "    <tr>\n",
       "      <th>sibsp</th>\n",
       "      <td>891.0</td>\n",
       "      <td>NaN</td>\n",
       "      <td>NaN</td>\n",
       "      <td>NaN</td>\n",
       "      <td>0.523008</td>\n",
       "      <td>1.102743</td>\n",
       "      <td>0.0</td>\n",
       "      <td>0.0</td>\n",
       "      <td>0.0</td>\n",
       "      <td>1.0</td>\n",
       "      <td>8.0</td>\n",
       "    </tr>\n",
       "    <tr>\n",
       "      <th>parch</th>\n",
       "      <td>891.0</td>\n",
       "      <td>NaN</td>\n",
       "      <td>NaN</td>\n",
       "      <td>NaN</td>\n",
       "      <td>0.381594</td>\n",
       "      <td>0.806057</td>\n",
       "      <td>0.0</td>\n",
       "      <td>0.0</td>\n",
       "      <td>0.0</td>\n",
       "      <td>0.0</td>\n",
       "      <td>6.0</td>\n",
       "    </tr>\n",
       "    <tr>\n",
       "      <th>fare</th>\n",
       "      <td>891.0</td>\n",
       "      <td>NaN</td>\n",
       "      <td>NaN</td>\n",
       "      <td>NaN</td>\n",
       "      <td>32.204208</td>\n",
       "      <td>49.693429</td>\n",
       "      <td>0.0</td>\n",
       "      <td>7.9104</td>\n",
       "      <td>14.4542</td>\n",
       "      <td>31.0</td>\n",
       "      <td>512.3292</td>\n",
       "    </tr>\n",
       "    <tr>\n",
       "      <th>embarked</th>\n",
       "      <td>889</td>\n",
       "      <td>3</td>\n",
       "      <td>S</td>\n",
       "      <td>644</td>\n",
       "      <td>NaN</td>\n",
       "      <td>NaN</td>\n",
       "      <td>NaN</td>\n",
       "      <td>NaN</td>\n",
       "      <td>NaN</td>\n",
       "      <td>NaN</td>\n",
       "      <td>NaN</td>\n",
       "    </tr>\n",
       "    <tr>\n",
       "      <th>class</th>\n",
       "      <td>891</td>\n",
       "      <td>3</td>\n",
       "      <td>Third</td>\n",
       "      <td>491</td>\n",
       "      <td>NaN</td>\n",
       "      <td>NaN</td>\n",
       "      <td>NaN</td>\n",
       "      <td>NaN</td>\n",
       "      <td>NaN</td>\n",
       "      <td>NaN</td>\n",
       "      <td>NaN</td>\n",
       "    </tr>\n",
       "  </tbody>\n",
       "</table>\n",
       "</div>"
      ],
      "text/plain": [
       "          count unique    top freq       mean        std   min     25%  \\\n",
       "survived  891.0    NaN    NaN  NaN   0.383838   0.486592   0.0     0.0   \n",
       "pclass    891.0    NaN    NaN  NaN   2.308642   0.836071   1.0     2.0   \n",
       "sex         891      2   male  577        NaN        NaN   NaN     NaN   \n",
       "age       714.0    NaN    NaN  NaN  29.699118  14.526497  0.42  20.125   \n",
       "sibsp     891.0    NaN    NaN  NaN   0.523008   1.102743   0.0     0.0   \n",
       "parch     891.0    NaN    NaN  NaN   0.381594   0.806057   0.0     0.0   \n",
       "fare      891.0    NaN    NaN  NaN  32.204208  49.693429   0.0  7.9104   \n",
       "embarked    889      3      S  644        NaN        NaN   NaN     NaN   \n",
       "class       891      3  Third  491        NaN        NaN   NaN     NaN   \n",
       "\n",
       "              50%   75%       max  \n",
       "survived      0.0   1.0       1.0  \n",
       "pclass        3.0   3.0       3.0  \n",
       "sex           NaN   NaN       NaN  \n",
       "age          28.0  38.0      80.0  \n",
       "sibsp         0.0   1.0       8.0  \n",
       "parch         0.0   0.0       6.0  \n",
       "fare      14.4542  31.0  512.3292  \n",
       "embarked      NaN   NaN       NaN  \n",
       "class         NaN   NaN       NaN  "
      ]
     },
     "execution_count": 127,
     "metadata": {},
     "output_type": "execute_result"
    }
   ],
   "source": [
    "data.describe(include='all').T"
   ]
  },
  {
   "cell_type": "code",
   "execution_count": 128,
   "id": "cc68ec9d",
   "metadata": {},
   "outputs": [],
   "source": [
    "bins = [0, 5, 17, 25, 50, 80]\n",
    "labels = ['Infant', 'Kid', 'Young', 'Adult', 'Old']\n",
    "data['age'] = pd.cut(data['age'], bins = bins, labels=labels)"
   ]
  },
  {
   "cell_type": "code",
   "execution_count": 129,
   "id": "69d70d74",
   "metadata": {},
   "outputs": [
    {
     "data": {
      "text/html": [
       "<div>\n",
       "<style scoped>\n",
       "    .dataframe tbody tr th:only-of-type {\n",
       "        vertical-align: middle;\n",
       "    }\n",
       "\n",
       "    .dataframe tbody tr th {\n",
       "        vertical-align: top;\n",
       "    }\n",
       "\n",
       "    .dataframe thead th {\n",
       "        text-align: right;\n",
       "    }\n",
       "</style>\n",
       "<table border=\"1\" class=\"dataframe\">\n",
       "  <thead>\n",
       "    <tr style=\"text-align: right;\">\n",
       "      <th></th>\n",
       "      <th>age</th>\n",
       "    </tr>\n",
       "  </thead>\n",
       "  <tbody>\n",
       "    <tr>\n",
       "      <th>Adult</th>\n",
       "      <td>349</td>\n",
       "    </tr>\n",
       "    <tr>\n",
       "      <th>Young</th>\n",
       "      <td>188</td>\n",
       "    </tr>\n",
       "    <tr>\n",
       "      <th>Kid</th>\n",
       "      <td>69</td>\n",
       "    </tr>\n",
       "    <tr>\n",
       "      <th>Old</th>\n",
       "      <td>64</td>\n",
       "    </tr>\n",
       "    <tr>\n",
       "      <th>Infant</th>\n",
       "      <td>44</td>\n",
       "    </tr>\n",
       "  </tbody>\n",
       "</table>\n",
       "</div>"
      ],
      "text/plain": [
       "        age\n",
       "Adult   349\n",
       "Young   188\n",
       "Kid      69\n",
       "Old      64\n",
       "Infant   44"
      ]
     },
     "execution_count": 129,
     "metadata": {},
     "output_type": "execute_result"
    }
   ],
   "source": [
    "pd.DataFrame(data['age'].value_counts())"
   ]
  },
  {
   "cell_type": "code",
   "execution_count": 130,
   "id": "e6f7ab82",
   "metadata": {},
   "outputs": [
    {
     "data": {
      "text/plain": [
       "'Adult'"
      ]
     },
     "execution_count": 130,
     "metadata": {},
     "output_type": "execute_result"
    }
   ],
   "source": [
    "data_2 = data['age'].mode()[0]\n",
    "data_2"
   ]
  },
  {
   "cell_type": "code",
   "execution_count": 131,
   "id": "3acd6f34",
   "metadata": {},
   "outputs": [],
   "source": [
    "data = data.fillna({'age' : data['age'].mode()[0]})"
   ]
  },
  {
   "cell_type": "code",
   "execution_count": 132,
   "id": "34a4c7c1",
   "metadata": {},
   "outputs": [
    {
     "data": {
      "text/plain": [
       "array(['S', 'C', 'Q', nan], dtype=object)"
      ]
     },
     "execution_count": 132,
     "metadata": {},
     "output_type": "execute_result"
    }
   ],
   "source": [
    "data['embarked'].unique()"
   ]
  },
  {
   "cell_type": "code",
   "execution_count": 133,
   "id": "07fd8bd6",
   "metadata": {},
   "outputs": [],
   "source": [
    "data = data.fillna({'embarked' : 'S'})"
   ]
  },
  {
   "cell_type": "code",
   "execution_count": 134,
   "id": "00054ed5",
   "metadata": {},
   "outputs": [],
   "source": [
    "bins = [-1, 8, 15, 31, 513]\n",
    "labels = ['low', 'medium-low', 'medium', 'high']\n",
    "data['fare'] = pd.cut(data[\"fare\"], bins = bins, labels = labels)"
   ]
  },
  {
   "cell_type": "code",
   "execution_count": 135,
   "id": "bcd6ea16",
   "metadata": {},
   "outputs": [
    {
     "data": {
      "text/plain": [
       "<seaborn.axisgrid.FacetGrid at 0x259b301dbb0>"
      ]
     },
     "execution_count": 135,
     "metadata": {},
     "output_type": "execute_result"
    },
    {
     "data": {
      "image/png": "[encoded data removed]",
      "text/plain": [
       "<Figure size 360x360 with 1 Axes>"
      ]
     },
     "metadata": {},
     "output_type": "display_data"
    }
   ],
   "source": [
    "data.drop('class', axis = 1, inplace = True)\n",
    "sns.displot(data['survived'])"
   ]
  },
  {
   "cell_type": "code",
   "execution_count": 136,
   "id": "6b02ffd8",
   "metadata": {},
   "outputs": [
    {
     "data": {
      "image/png": "[encoded data removed]",
      "text/plain": [
       "<Figure size 1440x720 with 6 Axes>"
      ]
     },
     "metadata": {},
     "output_type": "display_data"
    }
   ],
   "source": [
    "plt.figure(figsize=(20, 10))\n",
    "plt.subplot(321)\n",
    "sns.barplot(x = 'sibsp', y = 'survived', data = data)\n",
    "plt.subplot(322)\n",
    "sns.barplot(x = 'pclass', y = 'survived', data = data)\n",
    "plt.subplot(323)\n",
    "sns.barplot(x = 'age', y = 'survived', data = data)\n",
    "plt.subplot(324)\n",
    "sns.barplot(x = 'sex', y = 'survived', data = data)\n",
    "plt.subplot(325)\n",
    "sns.barplot(x = 'embarked', y = 'survived', data = data);\n",
    "plt.subplot(326)\n",
    "sns.barplot(x = 'fare', y = 'survived' , data = data);"
   ]
  },
  {
   "cell_type": "markdown",
   "id": "075c9eb5",
   "metadata": {},
   "source": [
    "## We'll use get_dummies to convert non-numeric values to numeric values."
   ]
  },
  {
   "cell_type": "code",
   "execution_count": 137,
   "id": "37f5f297",
   "metadata": {},
   "outputs": [],
   "source": [
    "dummies = ['fare', 'age', 'embarked', 'sex']\n",
    "dummies_data = pd.get_dummies(data[dummies])"
   ]
  },
  {
   "cell_type": "code",
   "execution_count": 138,
   "id": "fbbe6435",
   "metadata": {},
   "outputs": [
    {
     "data": {
      "text/plain": [
       "(891, 14)"
      ]
     },
     "execution_count": 138,
     "metadata": {},
     "output_type": "execute_result"
    }
   ],
   "source": [
    "dummies_data.shape"
   ]
  },
  {
   "cell_type": "markdown",
   "id": "ca2bcf1f",
   "metadata": {},
   "source": [
    "### We will concat two data frames, and drop the old columns."
   ]
  },
  {
   "cell_type": "code",
   "execution_count": 139,
   "id": "6173c661",
   "metadata": {},
   "outputs": [],
   "source": [
    "data = pd.concat([data, dummies_data], axis = 1)\n",
    "data.drop(dummies, axis = 1, inplace = True)"
   ]
  },
  {
   "cell_type": "markdown",
   "id": "8c49589f",
   "metadata": {},
   "source": [
    "# Spliting into Train and Test dataset"
   ]
  },
  {
   "cell_type": "code",
   "execution_count": 140,
   "id": "00c6d9b6",
   "metadata": {},
   "outputs": [],
   "source": [
    "from sklearn.model_selection import train_test_split\n",
    "from sklearn.linear_model import Ridge"
   ]
  },
  {
   "cell_type": "code",
   "execution_count": 141,
   "id": "7a21dca9",
   "metadata": {},
   "outputs": [],
   "source": [
    "X = data.drop('survived', axis = 1)\n",
    "y = data['survived']\n",
    "X_train, X_test, y_train, y_test = train_test_split(X, y, test_size = 0.33, random_state = 0)"
   ]
  },
  {
   "cell_type": "markdown",
   "id": "3dd526f7",
   "metadata": {},
   "source": [
    "## Training the model"
   ]
  },
  {
   "cell_type": "code",
   "execution_count": 142,
   "id": "81c2dd08",
   "metadata": {
    "scrolled": true
   },
   "outputs": [
    {
     "data": {
      "text/plain": [
       "Ridge()"
      ]
     },
     "execution_count": 142,
     "metadata": {},
     "output_type": "execute_result"
    }
   ],
   "source": [
    "regressor = Ridge()\n",
    "regressor.fit(X_train, y_train)"
   ]
  },
  {
   "cell_type": "code",
   "execution_count": 143,
   "id": "0b3148fc",
   "metadata": {
    "scrolled": true
   },
   "outputs": [
    {
     "data": {
      "text/plain": [
       "array([ 0.16194827,  0.11576798,  0.02664663,  0.97412484,  0.68545028,\n",
       "        0.45328422,  0.95128186,  0.87478604,  0.4097951 ,  0.71131871,\n",
       "        0.06339054,  0.75050257,  0.15849469,  0.81895651,  0.98250284,\n",
       "        0.70138051,  0.04272841,  0.15288234,  0.08672785,  0.45485123,\n",
       "        0.18617283,  0.90728242,  0.15849469,  0.45328422,  0.56305872,\n",
       "        0.93587693,  0.11576798,  0.59209885,  0.74792276,  0.7842484 ,\n",
       "        0.16194827,  0.75050257,  0.08672785,  0.43095155,  0.06339054,\n",
       "        0.52850464,  0.11576798,  0.23017227,  0.18617283,  0.07326763,\n",
       "        0.25864199,  0.14698897,  0.08672785, -0.03841274,  0.89890442,\n",
       "        0.11576798,  0.11576798,  0.80125214,  0.23017227,  0.18342157,\n",
       "        0.45328422,  0.42392463,  1.07069562,  0.07176855,  0.52850464,\n",
       "        0.13875281,  0.29637958,  0.44366965, -0.00195055,  0.1043672 ,\n",
       "        0.14698897,  0.53373404,  0.81722021,  0.50617197,  0.53056233,\n",
       "        0.15849469,  0.97361452,  0.24925922,  1.07069562,  0.92961509,\n",
       "        0.73379322,  0.37857411,  0.45379453,  0.08672785,  0.04272841,\n",
       "        0.67303778,  0.15332397,  0.52850464,  0.11576798,  0.38506022,\n",
       "        0.15674464,  0.14105225,  0.73954475,  0.18105021,  0.3098398 ,\n",
       "        0.90728242,  1.02650228,  0.45015352,  0.75050257,  0.4097951 ,\n",
       "        0.40265683,  0.07176855,  0.55036531,  0.98825437,  0.51837976,\n",
       "        0.1909884 ,  0.63000732, -0.03841274,  0.29637958,  0.50617197,\n",
       "       -0.1290381 ,  0.10055772,  0.07176855, -0.0188568 ,  0.5164328 ,\n",
       "        0.59610033,  0.75050257,  0.47315346,  0.21346292,  0.67707495,\n",
       "        0.11576798,  0.86903451,  0.14406271,  0.60705815,  0.30207829,\n",
       "        0.75050257,  0.5903488 ,  0.9301254 ,  0.11576798,  0.73954475,\n",
       "        0.14406271,  0.12945455,  0.04272841,  0.40265683,  0.08672785,\n",
       "        0.3716    ,  0.1909884 ,  0.01939111,  0.25921241,  0.07326763,\n",
       "        0.63482556,  0.04272841,  0.07176855,  0.51068127,  0.29637958,\n",
       "        0.04272841,  0.10611725,  0.55468071,  0.25746235,  0.18617283,\n",
       "        0.23017227,  0.94163113,  0.08672785,  0.63482556,  0.80783744,\n",
       "        0.56305872,  0.23017227,  0.77779266,  0.98825437,  0.08672785,\n",
       "        0.37857411,  0.60705815,  0.60705815,  0.11576798,  0.89100522,\n",
       "        0.23017227,  0.64403066,  0.07326763,  0.678825  ,  0.95009418,\n",
       "        0.11576798,  0.14698897,  0.81722021,  0.52959335,  0.16564528,\n",
       "        0.07176855, -0.04113665,  0.07176855,  0.07176855,  0.15201007,\n",
       "       -0.07017679,  0.97412484,  0.11576798,  0.08672785,  0.77660094,\n",
       "        0.08672785,  0.97412484,  0.07176855,  0.04272841,  0.68545028,\n",
       "        0.23017227,  0.2721022 ,  0.14698897,  0.07176855,  0.45328422,\n",
       "        0.04272841,  0.678825  ,  0.25921241,  0.11576798,  0.69554531,\n",
       "        0.51068127,  0.37857411,  0.77660094,  0.678825  ,  0.15849469,\n",
       "        0.31101943,  0.08672785,  0.84758367,  0.45328422,  0.11576798,\n",
       "        0.04272841,  0.62990113,  0.07326763,  0.69518336,  0.04272841,\n",
       "        0.33268277,  0.63434824,  0.08672785,  0.74410722,  0.08672785,\n",
       "        0.07176855,  0.34926734, -0.03841274,  0.73660297,  0.23017227,\n",
       "        0.07176855,  0.33268277,  0.36867298,  0.4813566 ,  1.02650228,\n",
       "        0.07176855,  0.80125214,  0.9272512 ,  0.11576798,  0.41537493,\n",
       "        0.11401793,  0.07176855,  0.75050257,  0.07176855,  0.03177059,\n",
       "        0.08672785,  0.63496474,  0.63609829,  0.56305872,  0.29637958,\n",
       "        0.11401793,  1.02650228,  0.83487175,  0.79192219,  0.11576798,\n",
       "        0.1909884 ,  0.70375187,  0.11576798,  0.3098398 ,  0.8307866 ,\n",
       "        0.15099044,  0.64978486,  0.11576798,  0.08672785,  0.56881024,\n",
       "        0.07176855,  0.12692271,  0.41554662,  0.25921241,  0.39129221,\n",
       "        0.5903488 ,  0.678825  ,  0.08672785,  0.18920799,  0.00159006,\n",
       "        0.11576798,  0.13686091,  0.1909884 ,  0.40265683,  0.20912208,\n",
       "        0.10957082,  0.59209885,  0.52850464,  0.29637958,  0.97412484,\n",
       "        0.13683055,  0.23579901,  0.62990113,  0.262164  ,  0.42392463,\n",
       "        0.04272841,  0.08672785,  0.07176855,  0.678825  ,  0.63609829,\n",
       "        0.07176855,  0.67707495,  0.43095155,  0.97361452, -0.04113665,\n",
       "        0.07176855,  0.16564528,  0.49134544,  0.07326763,  0.43095155,\n",
       "        0.23017227,  0.25746235,  0.68545028,  0.71721209,  0.70650314])"
      ]
     },
     "execution_count": 143,
     "metadata": {},
     "output_type": "execute_result"
    }
   ],
   "source": [
    "y_pred = regressor.predict(X_test)\n",
    "y_pred"
   ]
  },
  {
   "cell_type": "markdown",
   "id": "feff2ec7",
   "metadata": {},
   "source": [
    "# Accuracy of the model"
   ]
  },
  {
   "cell_type": "code",
   "execution_count": 144,
   "id": "a719849c",
   "metadata": {},
   "outputs": [],
   "source": [
    "import numpy as np"
   ]
  },
  {
   "cell_type": "code",
   "execution_count": 145,
   "id": "dfb033a2",
   "metadata": {},
   "outputs": [
    {
     "data": {
      "text/plain": [
       "0.11537600889104024"
      ]
     },
     "execution_count": 145,
     "metadata": {},
     "output_type": "execute_result"
    }
   ],
   "source": [
    "# Using RMSLE => Root Mean Square Logarithmic Error\n",
    "error = np.square(np.log10(y_pred +1) - np.log10(y_test +1)).mean() ** 0.5\n",
    "error"
   ]
  },
  {
   "cell_type": "code",
   "execution_count": 146,
   "id": "31487429",
   "metadata": {},
   "outputs": [
    {
     "name": "stdout",
     "output_type": "stream",
     "text": [
      "Accuracy is the model 88.46239911089597 %\n"
     ]
    }
   ],
   "source": [
    "# Accuracy of the model.\n",
    "# Subtract error from 1 and multiplying by 100.\n",
    "\n",
    "print(\"Accuracy is the model\", (1-error)*100, \"%\")"
   ]
  }
 ],
 "metadata": {
  "kernelspec": {
   "display_name": "Python 3 (ipykernel)",
   "language": "python",
   "name": "python3"
  },
  "language_info": {
   "codemirror_mode": {
    "name": "ipython",
    "version": 3
   },
   "file_extension": ".py",
   "mimetype": "text/x-python",
   "name": "python",
   "nbconvert_exporter": "python",
   "pygments_lexer": "ipython3",
   "version": "3.9.7"
  }
 },
 "nbformat": 4,
 "nbformat_minor": 5
}
